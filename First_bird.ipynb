{
 "cells": [
  {
   "cell_type": "code",
   "execution_count": 14,
   "id": "4cb8a3fd",
   "metadata": {},
   "outputs": [
    {
     "name": "stdout",
     "output_type": "stream",
     "text": [
      "Python stri\"ng awesome!\n"
     ]
    }
   ],
   "source": [
    "str1= \"Python\"\n",
    "str2=\"awesome!\"\n",
    "\n",
    "print(str1+' stri\"ng '+str2)"
   ]
  },
  {
   "cell_type": "code",
   "execution_count": 16,
   "id": "1232b02a",
   "metadata": {},
   "outputs": [
    {
     "name": "stdout",
     "output_type": "stream",
     "text": [
      "more\n"
     ]
    }
   ],
   "source": [
    "var=5\n",
    "if var<3:\n",
    "    print(\"less\")\n",
    "else:\n",
    "    print(\"more\")"
   ]
  },
  {
   "cell_type": "code",
   "execution_count": 17,
   "id": "a0426bde",
   "metadata": {},
   "outputs": [
    {
     "name": "stdout",
     "output_type": "stream",
     "text": [
      "more than 4\n"
     ]
    }
   ],
   "source": [
    "var=5\n",
    "if var>3:\n",
    "    if var>4:\n",
    "        print(\"more than 4\")"
   ]
  },
  {
   "cell_type": "code",
   "execution_count": 18,
   "id": "f722bbb7",
   "metadata": {},
   "outputs": [
    {
     "name": "stdout",
     "output_type": "stream",
     "text": [
      "null_var не определено\n",
      "not_null_var определено\n"
     ]
    }
   ],
   "source": [
    "null_var=None\n",
    "not_null_var = 'something'\n",
    "if null_var==None:\n",
    "    print('null_var не определено')\n",
    "else:\n",
    "    print('null_var определено')\n",
    "if not_null_var==None:\n",
    "    print('not_null_var не определено')\n",
    "else:\n",
    "    print('not_null_var определено')"
   ]
  },
  {
   "cell_type": "code",
   "execution_count": 20,
   "id": "25da7b05",
   "metadata": {},
   "outputs": [
    {
     "name": "stdout",
     "output_type": "stream",
     "text": [
      "False\n",
      "False\n",
      "True\n"
     ]
    }
   ],
   "source": [
    "a=0\n",
    "b=0\n",
    "print(a>b)\n",
    "print(a<b)\n",
    "print(a==b)"
   ]
  },
  {
   "cell_type": "code",
   "execution_count": 40,
   "id": "e6cd8afe",
   "metadata": {},
   "outputs": [
    {
     "name": "stdout",
     "output_type": "stream",
     "text": [
      "2\n"
     ]
    }
   ],
   "source": [
    "print(6%4)"
   ]
  },
  {
   "cell_type": "code",
   "execution_count": 43,
   "id": "62998d1a",
   "metadata": {},
   "outputs": [
    {
     "name": "stdout",
     "output_type": "stream",
     "text": [
      "Наименьшее число var_1\n"
     ]
    }
   ],
   "source": [
    "var_1=-15\n",
    "var_2=-8\n",
    "if var_1<var_2:\n",
    "    print('Наименьшее число var_1')\n",
    "else:\n",
    "    print('Наименьшее число var_2')"
   ]
  },
  {
   "cell_type": "code",
   "execution_count": 53,
   "id": "9224b979",
   "metadata": {},
   "outputs": [
    {
     "name": "stdout",
     "output_type": "stream",
     "text": [
      "Введите данные\n",
      "5\n",
      "<class 'str'>\n"
     ]
    }
   ],
   "source": [
    "var = input('Введите данные\\n')\n",
    "if type(var*1)!=int:\n",
    "    print(type(var))\n",
    "else:\n",
    "    print(var*1)"
   ]
  },
  {
   "cell_type": "code",
   "execution_count": 60,
   "id": "3f70e205",
   "metadata": {},
   "outputs": [
    {
     "name": "stdout",
     "output_type": "stream",
     "text": [
      "3\n"
     ]
    }
   ],
   "source": [
    "var_1=1\n",
    "var_2=1\n",
    "var_3=1\n",
    "if var_1==var_2 and var_1==var_3:\n",
    "    print('3')\n",
    "elif var_1==var_2 or var_1==var_3 or var_2==var_3:\n",
    "    print('2')\n",
    "else:\n",
    "    print('0')"
   ]
  },
  {
   "cell_type": "code",
   "execution_count": 61,
   "id": "25bba4d0",
   "metadata": {},
   "outputs": [
    {
     "name": "stdout",
     "output_type": "stream",
     "text": [
      "1\n",
      "2\n",
      "3\n",
      "4\n",
      "5\n",
      "6\n",
      "7\n",
      "8\n",
      "9\n",
      "10\n",
      "11\n",
      "12\n",
      "13\n"
     ]
    }
   ],
   "source": [
    "# создаем переменную, равную 1\n",
    "var = 1\n",
    "# прописываем цикл с условием - выполнять до тех пор, пока переменная\n",
    "# меньше или равна 13\n",
    "while var <= 13:\n",
    "# выводим значение переменной\n",
    "    print(var)\n",
    "# увеличиваем переменную на 1\n",
    "    var += 1"
   ]
  },
  {
   "cell_type": "code",
   "execution_count": 64,
   "id": "4f54ca89",
   "metadata": {},
   "outputs": [
    {
     "name": "stdout",
     "output_type": "stream",
     "text": [
      "range(1, 14)\n"
     ]
    }
   ],
   "source": [
    ">>> var = range(1, 14)\n",
    ">>> print(var)"
   ]
  },
  {
   "cell_type": "code",
   "execution_count": 65,
   "id": "233cdb61",
   "metadata": {},
   "outputs": [
    {
     "name": "stdout",
     "output_type": "stream",
     "text": [
      "1\n",
      "2\n",
      "3\n",
      "4\n",
      "5\n",
      "6\n",
      "7\n",
      "8\n",
      "9\n",
      "10\n",
      "11\n",
      "12\n",
      "13\n"
     ]
    }
   ],
   "source": [
    "for i in range(1,14):\n",
    "    print(i)"
   ]
  },
  {
   "cell_type": "code",
   "execution_count": 67,
   "id": "8deb419f",
   "metadata": {},
   "outputs": [
    {
     "name": "stdout",
     "output_type": "stream",
     "text": [
      "P\n",
      "y\n",
      "t\n"
     ]
    }
   ],
   "source": [
    "for var in 'Python':\n",
    "    if var == 'h':\n",
    "        break\n",
    "    print(var)"
   ]
  },
  {
   "cell_type": "code",
   "execution_count": 68,
   "id": "70bcefec",
   "metadata": {},
   "outputs": [
    {
     "name": "stdout",
     "output_type": "stream",
     "text": [
      "Символа a нет в слове Python\n"
     ]
    }
   ],
   "source": [
    "for var in 'Python':\n",
    "    if var == 'a':\n",
    "        break \n",
    "else:\n",
    "    print('Символа a нет в слове Python')"
   ]
  },
  {
   "cell_type": "code",
   "execution_count": null,
   "id": "fca9efe4",
   "metadata": {},
   "outputs": [],
   "source": [
    "var=9\n",
    "for i in range(1,10)\n",
    "    print(var) \n",
    "    "
   ]
  },
  {
   "cell_type": "code",
   "execution_count": 83,
   "id": "5d37fbe4",
   "metadata": {},
   "outputs": [
    {
     "name": "stdout",
     "output_type": "stream",
     "text": [
      "1\n",
      "2\n",
      "3\n",
      "4\n",
      "5\n",
      "6\n",
      "7\n",
      "8\n",
      "9\n",
      "10\n",
      "11\n",
      "12\n",
      "13\n"
     ]
    }
   ],
   "source": []
  },
  {
   "cell_type": "code",
   "execution_count": null,
   "id": "b10b1206",
   "metadata": {},
   "outputs": [],
   "source": []
  },
  {
   "cell_type": "code",
   "execution_count": 55,
   "id": "fc983fd0",
   "metadata": {},
   "outputs": [
    {
     "name": "stdout",
     "output_type": "stream",
     "text": [
      "    1\n",
      "   121\n",
      "  12321\n",
      " 1234321\n",
      "123454321\n",
      " 1234321\n",
      "  12321\n",
      "   121\n",
      "    1\n"
     ]
    }
   ],
   "source": [
    "var=5\n",
    "\n",
    "str_1=''\n",
    "i=1\n",
    "j=1\n",
    "str_2=\"\"\n",
    "space=\"\"\n",
    "b=1\n",
    "sp_cnt=0\n",
    "str_3=\"\"\n",
    "one_more=1\n",
    "a=1\n",
    "n=0\n",
    "\n",
    "for i in range(1,var*2):\n",
    "    if i<=var:\n",
    "        sp_cnt = var-b\n",
    "        while sp_cnt>0:\n",
    "            space=space+str(\" \")\n",
    "            sp_cnt = sp_cnt-1\n",
    "        str_1 = str_1+str(i)\n",
    "        j=i-1\n",
    "        while j>0:\n",
    "            str_2=str_2+str(j)\n",
    "            j=j-1\n",
    "        print(space+str_1+str_2)\n",
    "        space=\"\"\n",
    "        b=b+1\n",
    "        str_2=\"\"\n",
    "        j=0\n",
    "        sp_cnt=0\n",
    "        n=n+1\n",
    "    else:\n",
    "        sp_cnt=sp_cnt+a\n",
    "        while sp_cnt>0:\n",
    "            space=space+str(\" \")\n",
    "            sp_cnt = sp_cnt-1\n",
    "        while one_more<n:\n",
    "            str_3=str_3+str(one_more)\n",
    "            one_more=one_more+1\n",
    "        j=n-2\n",
    "        while j>0:\n",
    "            str_2=str_2+str(j)\n",
    "            j=j-1\n",
    "        print(space+str_3+str_2)\n",
    "        a=a+1\n",
    "        str_2=\"\"\n",
    "        str_3=\"\"\n",
    "        space=\"\"\n",
    "        one_more=1\n",
    "        n=n-1\n",
    " "
   ]
  },
  {
   "cell_type": "code",
   "execution_count": 61,
   "id": "4bbd6f58",
   "metadata": {},
   "outputs": [
    {
     "name": "stdout",
     "output_type": "stream",
     "text": [
      "        1\n",
      "       12\n",
      "      123\n",
      "     1234\n",
      "    12345\n",
      "   123456\n",
      "  1234567\n",
      " 12345678\n",
      "123456789\n",
      "         987654321\n",
      "         87654321\n",
      "         7654321\n",
      "         654321\n",
      "         54321\n",
      "         4321\n",
      "         321\n",
      "         21\n",
      "         1\n"
     ]
    }
   ],
   "source": [
    "var=9\n",
    "i=1\n",
    "sp_cnt=0\n",
    "space=\"\"\n",
    "a=1\n",
    "str_1=\"\"\n",
    "str_2=\"\"\n",
    "b=0\n",
    "j=0\n",
    "\n",
    "for i in range(1, var*2+1):\n",
    "    if i<=var:\n",
    "        sp_cnt=var-a\n",
    "        while sp_cnt>0:\n",
    "            space=space+str(\" \")\n",
    "            sp_cnt=sp_cnt-1\n",
    "        str_1=str_1+str(i)\n",
    "        print(space+str_1)\n",
    "        a=a+1\n",
    "        space=\"\"\n",
    "    else:\n",
    "        sp_cnt=var\n",
    "        while sp_cnt>0:\n",
    "            space=space+str(\" \")\n",
    "            sp_cnt=sp_cnt-1\n",
    "        j=var-b\n",
    "        while j>0:\n",
    "            str_2=str_2+str(j)\n",
    "            j=j-1\n",
    "        print(space+str_2)\n",
    "        b=b+1\n",
    "        space=\"\"\n",
    "        str_2=\"\""
   ]
  },
  {
   "cell_type": "code",
   "execution_count": 62,
   "id": "dd3d9780",
   "metadata": {},
   "outputs": [
    {
     "name": "stdout",
     "output_type": "stream",
     "text": [
      "  ***    *   ***   ***     *   ***** *     *****  ***   **** \n",
      " *   *  **  *   * *   *   **   *     *         * *   * *   * \n",
      "*     *  *  *  *      *  * *   *     *        *  *   * *   * \n",
      "*     *  *    *     **  *  *    ***  ****    *    ***   **** \n",
      "*     *  *   *        * ******     * *   *  *    *   *     * \n",
      " *   *   *  *     *   *    *       * *   * *     *   *     * \n",
      "  ***   *** *****  ***     *   ****  ****  *      ***      * \n"
     ]
    }
   ],
   "source": [
    "zero =  [\"  ***  \", \" *   * \", \"*     *\", \"*     *\", \"*     *\",\" *   * \",\"  ***  \"]\n",
    "one =   [\" * \", \"** \", \" * \", \" * \", \" * \", \" * \", \"***\"]\n",
    "two =   [\" *** \", \"*   *\", \"*  * \", \"  *  \", \" *   \", \"*    \", \"*****\"]\n",
    "three = [\" *** \", \"*   *\", \"    *\", \"  ** \", \"    *\", \"*   *\", \" *** \"]\n",
    "four =  [\"   *  \", \"  **  \", \" * *  \", \"*  *  \", \"******\", \"   *  \", \"   *  \"]\n",
    "five =  [\"*****\", \"*    \", \"*    \", \" *** \", \"    *\", \"    *\", \"**** \"]\n",
    "six =   [\"*    \", \"*    \", \"*    \", \"**** \", \"*   *\", \"*   *\", \"**** \"]\n",
    "seven = [\"*****\", \"    *\", \"   * \", \"  *  \", \" *   \", \"*    \", \"*    \"]\n",
    "eight = [\" *** \", \"*   *\", \"*   *\", \" *** \", \"*   *\", \"*   *\", \" *** \"]\n",
    "nine =  [\" ****\", \"*   *\", \"*   *\", \" ****\", \"    *\", \"    *\", \"    *\"]\n",
    "\n",
    "digits = [zero, one, two, three, four, five, six, seven, eight, nine]\n",
    "number = '0123456789'\n",
    "for row in range(7):\n",
    "    line = \"\"\n",
    "    for digit in number:\n",
    "        line += digits[int(digit)][row] + \" \"\n",
    "    print(line)"
   ]
  },
  {
   "cell_type": "code",
   "execution_count": 63,
   "id": "f6c55ef3",
   "metadata": {},
   "outputs": [
    {
     "data": {
      "text/plain": [
       "'0b1010'"
      ]
     },
     "execution_count": 63,
     "metadata": {},
     "output_type": "execute_result"
    }
   ],
   "source": [
    "bin(10)"
   ]
  },
  {
   "cell_type": "code",
   "execution_count": 65,
   "id": "5a2bfd44",
   "metadata": {},
   "outputs": [
    {
     "name": "stdout",
     "output_type": "stream",
     "text": [
      "r\n"
     ]
    }
   ],
   "source": [
    "s='Abraсadabra'\n",
    "print(s[2])"
   ]
  },
  {
   "cell_type": "code",
   "execution_count": 69,
   "id": "6cf03a65",
   "metadata": {},
   "outputs": [
    {
     "name": "stdout",
     "output_type": "stream",
     "text": [
      "r\n"
     ]
    }
   ],
   "source": [
    "s='Abraсadabra'\n",
    "print(s[len(s)-2])"
   ]
  },
  {
   "cell_type": "code",
   "execution_count": 71,
   "id": "2932a196",
   "metadata": {},
   "outputs": [
    {
     "name": "stdout",
     "output_type": "stream",
     "text": [
      "Abraс\n"
     ]
    }
   ],
   "source": [
    "s='Abraсadabra'\n",
    "print(s[0:5])"
   ]
  },
  {
   "cell_type": "code",
   "execution_count": 73,
   "id": "a6a92cbc",
   "metadata": {},
   "outputs": [
    {
     "name": "stdout",
     "output_type": "stream",
     "text": [
      "Abraсadab\n"
     ]
    }
   ],
   "source": [
    "s='Abraсadabra'\n",
    "print(s[0:len(s)-2])"
   ]
  },
  {
   "cell_type": "code",
   "execution_count": 77,
   "id": "c32127a4",
   "metadata": {},
   "outputs": [
    {
     "name": "stdout",
     "output_type": "stream",
     "text": [
      "Arсdba\n"
     ]
    }
   ],
   "source": [
    "s='Abraсadabra'\n",
    "s1=''\n",
    "for i in range(0,len(s)):\n",
    "    if i%2==0:\n",
    "        s1=s1+s[i]\n",
    "print(s1)"
   ]
  },
  {
   "cell_type": "code",
   "execution_count": 78,
   "id": "7b579853",
   "metadata": {},
   "outputs": [
    {
     "name": "stdout",
     "output_type": "stream",
     "text": [
      "baaar\n"
     ]
    }
   ],
   "source": [
    "s='Abraсadabra'\n",
    "s1=''\n",
    "for i in range(0,len(s)):\n",
    "    if i%2!=0:\n",
    "        s1=s1+s[i]\n",
    "print(s1)"
   ]
  },
  {
   "cell_type": "code",
   "execution_count": 81,
   "id": "f56f0b19",
   "metadata": {},
   "outputs": [
    {
     "name": "stdout",
     "output_type": "stream",
     "text": [
      "arbadaсarbA\n"
     ]
    }
   ],
   "source": [
    "s='Abraсadabra'\n",
    "s1=''\n",
    "k=len(s)\n",
    "while k>0:\n",
    "        s1=s1+s[k-1]\n",
    "        k=k-1\n",
    "print(s1)"
   ]
  },
  {
   "cell_type": "code",
   "execution_count": 82,
   "id": "4a42bd6d",
   "metadata": {},
   "outputs": [
    {
     "name": "stdout",
     "output_type": "stream",
     "text": [
      "abdсrA\n"
     ]
    }
   ],
   "source": [
    "s='Abraсadabra'\n",
    "s1=''\n",
    "k=len(s)\n",
    "while k>0:\n",
    "        s1=s1+s[k-1]\n",
    "        k=k-2\n",
    "print(s1)"
   ]
  },
  {
   "cell_type": "code",
   "execution_count": 83,
   "id": "16f98369",
   "metadata": {},
   "outputs": [
    {
     "name": "stdout",
     "output_type": "stream",
     "text": [
      "11\n"
     ]
    }
   ],
   "source": [
    "s='Abraсadabra'\n",
    "s1=len(s)\n",
    "print(s1)"
   ]
  },
  {
   "cell_type": "code",
   "execution_count": 163,
   "id": "eda2f9bd",
   "metadata": {},
   "outputs": [
    {
     "name": "stdout",
     "output_type": "stream",
     "text": [
      "A1 2b  3   Abc D3e R2D2 \n"
     ]
    }
   ],
   "source": [
    "main_string='a1 2b  3   abc d3e r2D2'\n",
    "split_string=''\n",
    "result_string=''\n",
    "main_char=''\n",
    "rest_of_word=''\n",
    "split_string=main_string.split(' ')\n",
    "for i in range(0,len(split_string)):\n",
    "    if len(split_string[i])>0:\n",
    "        if split_string[i][0].isalpha():\n",
    "            main_char = split_string[i][0].upper()\n",
    "            rest_of_word=split_string[i][1:len(split_string[i])]\n",
    "            result_string=result_string+main_char+rest_of_word+str(\" \")\n",
    "        else:\n",
    "            result_string=result_string+split_string[i]+str(' ')\n",
    "    else:\n",
    "        result_string=result_string+' '\n",
    "            \n",
    "print(result_string)"
   ]
  },
  {
   "cell_type": "code",
   "execution_count": 176,
   "id": "916e50d3",
   "metadata": {},
   "outputs": [
    {
     "name": "stdout",
     "output_type": "stream",
     "text": [
      "Поздравляю! Пароль соответствует всем требованиям!\n"
     ]
    }
   ],
   "source": [
    "password='@PowerRangers123@'\n",
    "pas_len=0\n",
    "pas_num=0\n",
    "pas_up=0\n",
    "pas_spec=0\n",
    "pas_low=0\n",
    "pas_len_msg='Длина пароля должна быть не менее 12 символов!\\n'\n",
    "pas_num_msg='Пароль должен содержать как минимум 1 цифру!\\n'\n",
    "pas_up_msg='Пароль должен содержать хотя бы одну заглавную букву!\\n'\n",
    "pas_spec_msg='Пароль должен содержать хотя  бы один спецсимвол!\\n'\n",
    "pas_low_msg='Пароль должен содержать хотя  бы одну строчную букву!\\n'\n",
    "\n",
    "if len(password)>=12:\n",
    "    pas_len_msg=''\n",
    "    pas_len=1\n",
    "\n",
    "for i in range(0,len(password)):\n",
    "    if password[i].isupper():\n",
    "        pas_up_msg=''\n",
    "        pas_up=1\n",
    "    if password[i].islower():\n",
    "        pas_low_msg=''\n",
    "        pas_low=1   \n",
    "    if password[i].isdigit():\n",
    "        pas_num_msg=''\n",
    "        pas_num=1\n",
    "    if password[i]=='!' or password[i]=='@' or password[i]=='#' or password[i]=='$' or password[i]=='%' or password[i]=='^' or password[i]=='*' or password[i]=='(' or password[i]==')' or password[i]=='-' or password[i]=='+':\n",
    "        pas_spec_msg=''\n",
    "        pas_spec=1\n",
    "        \n",
    "if pas_len+pas_num+pas_up+pas_spec+pas_low==5:\n",
    "    print('Поздравляю! Пароль соответствует всем требованиям!')\n",
    "else:\n",
    "    print('Не выполнены следующие требования к паролю:\\n'+pas_len_msg+pas_num_msg+pas_up_msg+pas_spec_msg+pas_low_msg)\n",
    "        \n",
    "        \n",
    "        "
   ]
  },
  {
   "cell_type": "code",
   "execution_count": 184,
   "id": "05ecd66c",
   "metadata": {},
   "outputs": [
    {
     "name": "stdout",
     "output_type": "stream",
     "text": [
      "Поздравляю! Пароль соответствует всем требованиям!\n"
     ]
    }
   ],
   "source": [
    "password='Q123wer123tY)'\n",
    "pas_len=0\n",
    "pas_num=0\n",
    "pas_up=0\n",
    "pas_spec=0\n",
    "pas_low=0\n",
    "pas_len_msg='Длина пароля должна быть не менее 12 символов!\\n'\n",
    "pas_num_msg='Пароль должен содержать как минимум 1 цифру!\\n'\n",
    "pas_up_msg='Пароль должен содержать хотя бы одну заглавную букву!\\n'\n",
    "pas_spec_msg='Пароль должен содержать хотя  бы один спецсимвол!\\n'\n",
    "pas_low_msg='Пароль должен содержать хотя  бы одну строчную букву!\\n'\n",
    "unk_cha_msg=''\n",
    "\n",
    "dig_str='1234567890'\n",
    "up_str='ABCDEFGHIJKLMNOPQRSTUVWXYZ'\n",
    "low_str='abcdefghijklmnopqrstuvwxyz'\n",
    "spec_str='!@#$%^&*()-+'\n",
    "\n",
    "\n",
    "if len(password)>=12:\n",
    "    pas_len_msg=''\n",
    "    pas_len=1\n",
    "\n",
    "for i in range(0,len(password)):\n",
    "    for j in range(0,len(dig_str)):\n",
    "        if password[i]==dig_str[j]:\n",
    "            pas_num_msg=''\n",
    "            pas_num=1\n",
    "    for j in range(0,len(up_str)):\n",
    "        if password[i]==up_str[j]:\n",
    "            pas_up_msg=''\n",
    "            pas_up=1\n",
    "    for j in range(0,len(low_str)):\n",
    "        if password[i]==low_str[j]:\n",
    "            pas_low_msg=''\n",
    "            pas_low=1\n",
    "    for j in range(0,len(spec_str)):\n",
    "        if password[i]==spec_str[j]:\n",
    "            pas_spec_msg=''\n",
    "            pas_spec=1 \n",
    "    if pas_spec+pas_low+pas_up+pas_num==0:\n",
    "        unk_cha_msg = 'Ошибка! Запрещенный символ!'\n",
    "    pas_spec=0\n",
    "    pas_low=0\n",
    "    pas_up=0\n",
    "    pas_num=0\n",
    "if len(pas_len_msg+pas_num_msg+pas_up_msg+pas_spec_msg+pas_low_msg+unk_cha_msg)==0:\n",
    "    print('Поздравляю! Пароль соответствует всем требованиям!')\n",
    "else:\n",
    "    print('Не выполнены следующие требования к паролю:\\n'+pas_len_msg+pas_num_msg+pas_up_msg+pas_spec_msg+pas_low_msg+unk_cha_msg)"
   ]
  },
  {
   "cell_type": "code",
   "execution_count": 185,
   "id": "49bcacdb",
   "metadata": {},
   "outputs": [
    {
     "data": {
      "text/plain": [
       "['PPP', 'yyy', 'ttt', 'hhh', 'ooo', 'nnn']"
      ]
     },
     "execution_count": 185,
     "metadata": {},
     "output_type": "execute_result"
    }
   ],
   "source": [
    ">>> a = ['P', 'y', 't', 'h', 'o', 'n']\n",
    ">>> b = [i * 3 for i in a]\n",
    ">>> b\n"
   ]
  },
  {
   "cell_type": "code",
   "execution_count": 198,
   "id": "87ed7e22",
   "metadata": {},
   "outputs": [
    {
     "name": "stdout",
     "output_type": "stream",
     "text": [
      "['1']\n"
     ]
    }
   ],
   "source": [
    "list_old=[1,7]\n",
    "list_new=[]\n",
    "\n",
    "for i in range(0, len(list_old)):\n",
    "    if i%2==0:\n",
    "        list_new.extend(str(list_old[i]))\n",
    "print(list_new)"
   ]
  },
  {
   "cell_type": "code",
   "execution_count": 203,
   "id": "72a16d40",
   "metadata": {},
   "outputs": [
    {
     "name": "stdout",
     "output_type": "stream",
     "text": [
      "['5', '5']\n"
     ]
    }
   ],
   "source": [
    "list_old=[1, 5, 1, 5, 1]\n",
    "list_new=[]\n",
    "\n",
    "for i in range(0, len(list_old)):\n",
    "    if i>0 and list_old[i]>list_old[i-1]:\n",
    "        list_new.extend(str(list_old[i]))\n",
    "print(list_new)"
   ]
  },
  {
   "cell_type": "code",
   "execution_count": 210,
   "id": "6d533df8",
   "metadata": {},
   "outputs": [
    {
     "name": "stdout",
     "output_type": "stream",
     "text": [
      "[7, 2, 3, 4, 5, 6, 1]\n"
     ]
    }
   ],
   "source": [
    "list_old=[1, 2, 3, 4, 5, 6, 7]\n",
    "list_new=[]\n",
    "min_el=list_old[0]\n",
    "max_el=list_old[0]\n",
    "min_idx=0\n",
    "max_idx=0\n",
    "\n",
    "for i in range(1, len(list_old)):\n",
    "    if list_old[i]>max_el:\n",
    "        max_el=list_old[i]\n",
    "        max_idx=i\n",
    "    if list_old[i]<min_el:\n",
    "        min_el=list_old[i]\n",
    "        min_idx=i\n",
    "list_old.insert(max_idx,min_el)\n",
    "list_old.pop(max_idx+1)\n",
    "list_old.insert(min_idx,max_el)\n",
    "list_old.pop(min_idx+1)\n",
    "\n",
    "print(list_old)"
   ]
  },
  {
   "cell_type": "code",
   "execution_count": 3,
   "id": "af3b1a8b",
   "metadata": {},
   "outputs": [
    {
     "name": "stdout",
     "output_type": "stream",
     "text": [
      "Hello\n",
      "Hi\n"
     ]
    }
   ],
   "source": [
    "d ={'Hello' : 'Hi', 'Bye' : 'Goodbye', 'List' : 'Array'}\n",
    "in_val=input()\n",
    "print(d.get(in_val))"
   ]
  },
  {
   "cell_type": "code",
   "execution_count": 28,
   "id": "f2a04bc6",
   "metadata": {},
   "outputs": [
    {
     "name": "stdout",
     "output_type": "stream",
     "text": [
      "dict_values([1, 2, 3, 4, 5])\n",
      "dict_keys(['a', 'b', 'c', 'd', 'e'])\n",
      "5\n",
      "e\n"
     ]
    }
   ],
   "source": [
    "list_val=[]\n",
    "list_key=[]\n",
    "d = {'a' : 1, 'b' : 2, 'c' : 3, 'd' : 4, 'e' : 5}\n",
    "list_val=list(d.values())\n",
    "print(d.values())\n",
    "print(d.keys())\n",
    "list_keys=list(d.keys())\n",
    "in_val=input()\n",
    "for i in range(0, len(list_val)):\n",
    "    if in_val==str(list_val[i]):\n",
    "        print(list_keys[i])\n",
    "        "
   ]
  },
  {
   "cell_type": "code",
   "execution_count": 7,
   "id": "c89c4489",
   "metadata": {},
   "outputs": [
    {
     "name": "stdout",
     "output_type": "stream",
     "text": [
      "3\n"
     ]
    }
   ],
   "source": [
    "a={1, 2, 3, 1, 1}\n",
    "set(a)\n",
    "print(len(a))"
   ]
  },
  {
   "cell_type": "code",
   "execution_count": 9,
   "id": "c6f0a059",
   "metadata": {},
   "outputs": [
    {
     "name": "stdout",
     "output_type": "stream",
     "text": [
      "{1}\n"
     ]
    }
   ],
   "source": [
    "a={1, 2, 3}\n",
    "b={1, 4, 5}\n",
    "print(a&b)"
   ]
  },
  {
   "cell_type": "code",
   "execution_count": 19,
   "id": "885c908f",
   "metadata": {},
   "outputs": [
    {
     "name": "stdout",
     "output_type": "stream",
     "text": [
      "нет!\n"
     ]
    }
   ],
   "source": [
    "a= {1, 10, 223, 413, 2}\n",
    "b={1, 10, 223, 413, 2}\n",
    "if a.issubset(b) and len(a)<len(b):\n",
    "    print(\"да!\")\n",
    "else:\n",
    "    print(\"нет!\")"
   ]
  },
  {
   "cell_type": "code",
   "execution_count": 29,
   "id": "6e5d9a2a",
   "metadata": {},
   "outputs": [
    {
     "name": "stdout",
     "output_type": "stream",
     "text": [
      "10\n"
     ]
    }
   ],
   "source": [
    "def func(a):\n",
    "    return a\n",
    "\n",
    "print(func(1+9))\n",
    "    "
   ]
  },
  {
   "cell_type": "code",
   "execution_count": 30,
   "id": "9c0ab666",
   "metadata": {},
   "outputs": [
    {
     "name": "stdout",
     "output_type": "stream",
     "text": [
      "5\n"
     ]
    }
   ],
   "source": [
    "print(1^4)"
   ]
  },
  {
   "cell_type": "code",
   "execution_count": 32,
   "id": "4793872b",
   "metadata": {},
   "outputs": [
    {
     "name": "stdout",
     "output_type": "stream",
     "text": [
      "2\n"
     ]
    }
   ],
   "source": [
    "a=[1,2,3]\n",
    "if a[2]<3:\n",
    "    print(a[a[1]])\n",
    "else:\n",
    "    print(a[1])"
   ]
  },
  {
   "cell_type": "code",
   "execution_count": 34,
   "id": "55f5dbbb",
   "metadata": {},
   "outputs": [
    {
     "name": "stdout",
     "output_type": "stream",
     "text": [
      "Banana\n"
     ]
    }
   ],
   "source": [
    "fruit='Banana'\n",
    "fruit[0]=='b'\n",
    "print(fruit)"
   ]
  },
  {
   "cell_type": "code",
   "execution_count": 35,
   "id": "5562c822",
   "metadata": {},
   "outputs": [
    {
     "name": "stdout",
     "output_type": "stream",
     "text": [
      "7\n"
     ]
    }
   ],
   "source": [
    "print(1|3|4)"
   ]
  },
  {
   "cell_type": "code",
   "execution_count": 40,
   "id": "b03d6643",
   "metadata": {},
   "outputs": [
    {
     "name": "stdout",
     "output_type": "stream",
     "text": [
      "01234\n"
     ]
    }
   ],
   "source": [
    "a=''\n",
    "for i in range(0,5):\n",
    "    a=a+str(i)\n",
    "print(a)"
   ]
  },
  {
   "cell_type": "code",
   "execution_count": 44,
   "id": "c5964ce8",
   "metadata": {},
   "outputs": [
    {
     "name": "stdout",
     "output_type": "stream",
     "text": [
      "(1, 2, 3)\n"
     ]
    }
   ],
   "source": [
    "a=1,2,3\n",
    "print(a)"
   ]
  },
  {
   "cell_type": "code",
   "execution_count": 45,
   "id": "89df158d",
   "metadata": {},
   "outputs": [
    {
     "ename": "TypeError",
     "evalue": "can only concatenate str (not \"int\") to str",
     "output_type": "error",
     "traceback": [
      "\u001b[1;31m---------------------------------------------------------------------------\u001b[0m",
      "\u001b[1;31mTypeError\u001b[0m                                 Traceback (most recent call last)",
      "\u001b[1;32m~\\AppData\\Local\\Temp/ipykernel_15852/207935621.py\u001b[0m in \u001b[0;36m<module>\u001b[1;34m\u001b[0m\n\u001b[1;32m----> 1\u001b[1;33m \u001b[0mprint\u001b[0m\u001b[1;33m(\u001b[0m\u001b[1;34m\"оценка за тест\"\u001b[0m\u001b[1;33m+\u001b[0m\u001b[1;36m5\u001b[0m\u001b[1;33m)\u001b[0m\u001b[1;33m\u001b[0m\u001b[1;33m\u001b[0m\u001b[0m\n\u001b[0m",
      "\u001b[1;31mTypeError\u001b[0m: can only concatenate str (not \"int\") to str"
     ]
    }
   ],
   "source": [
    "print(\"оценка за тест\"+5)"
   ]
  },
  {
   "cell_type": "code",
   "execution_count": 46,
   "id": "332a0cf5",
   "metadata": {},
   "outputs": [
    {
     "name": "stdout",
     "output_type": "stream",
     "text": [
      "0\n",
      "1\n"
     ]
    }
   ],
   "source": [
    "for i in range(3):\n",
    "    if i<1:\n",
    "        print(i)\n",
    "    else:\n",
    "        print(i)\n",
    "        break"
   ]
  },
  {
   "cell_type": "code",
   "execution_count": 47,
   "id": "cd0f5487",
   "metadata": {},
   "outputs": [
    {
     "name": "stdout",
     "output_type": "stream",
     "text": [
      "Python\n"
     ]
    }
   ],
   "source": [
    "print('Python'[:])"
   ]
  },
  {
   "cell_type": "code",
   "execution_count": 48,
   "id": "7a1c65d7",
   "metadata": {},
   "outputs": [
    {
     "name": "stdout",
     "output_type": "stream",
     "text": [
      "25\n"
     ]
    }
   ],
   "source": [
    "x=25\n",
    "def func(x):\n",
    "    x+=50\n",
    "\n",
    "func(x)\n",
    "print(x)"
   ]
  },
  {
   "cell_type": "code",
   "execution_count": 49,
   "id": "1acc158a",
   "metadata": {},
   "outputs": [
    {
     "name": "stdout",
     "output_type": "stream",
     "text": [
      "6\n"
     ]
    }
   ],
   "source": [
    "a=[1,2,3]\n",
    "b=[4,5,6]\n",
    "c=a+b\n",
    "print(len(c))"
   ]
  },
  {
   "cell_type": "code",
   "execution_count": 55,
   "id": "e9f87954",
   "metadata": {},
   "outputs": [
    {
     "name": "stdout",
     "output_type": "stream",
     "text": [
      "PytPyt\n"
     ]
    }
   ],
   "source": [
    "x='From marquard@uct.ac.za'\n",
    "print('Python'[:3]*2)"
   ]
  },
  {
   "cell_type": "code",
   "execution_count": 53,
   "id": "c180012b",
   "metadata": {},
   "outputs": [
    {
     "name": "stdout",
     "output_type": "stream",
     "text": [
      "[1, 2, 2]\n"
     ]
    }
   ],
   "source": [
    "a=[1,2,3]\n",
    "a[2]=2\n",
    "print(a)"
   ]
  },
  {
   "cell_type": "code",
   "execution_count": 54,
   "id": "1ef81940",
   "metadata": {},
   "outputs": [
    {
     "ename": "NameError",
     "evalue": "name 'Var' is not defined",
     "output_type": "error",
     "traceback": [
      "\u001b[1;31m---------------------------------------------------------------------------\u001b[0m",
      "\u001b[1;31mNameError\u001b[0m                                 Traceback (most recent call last)",
      "\u001b[1;32m~\\AppData\\Local\\Temp/ipykernel_15852/3270935628.py\u001b[0m in \u001b[0;36m<module>\u001b[1;34m\u001b[0m\n\u001b[0;32m      1\u001b[0m \u001b[0mvar\u001b[0m\u001b[1;33m=\u001b[0m\u001b[1;36m10\u001b[0m\u001b[1;33m\u001b[0m\u001b[1;33m\u001b[0m\u001b[0m\n\u001b[1;32m----> 2\u001b[1;33m \u001b[0mprint\u001b[0m\u001b[1;33m(\u001b[0m\u001b[0mVar\u001b[0m\u001b[1;33m)\u001b[0m\u001b[1;33m\u001b[0m\u001b[1;33m\u001b[0m\u001b[0m\n\u001b[0m",
      "\u001b[1;31mNameError\u001b[0m: name 'Var' is not defined"
     ]
    }
   ],
   "source": [
    "var=10\n",
    "print(Var)"
   ]
  },
  {
   "cell_type": "code",
   "execution_count": 56,
   "id": "d619b4b1",
   "metadata": {},
   "outputs": [
    {
     "name": "stdout",
     "output_type": "stream",
     "text": [
      "Dry off\n"
     ]
    }
   ],
   "source": [
    "n=0\n",
    "while n>0:\n",
    "    print(\"Lather\")\n",
    "    print(\"Rinse\")\n",
    "print(\"Dry off\")"
   ]
  },
  {
   "cell_type": "code",
   "execution_count": null,
   "id": "e63e4185",
   "metadata": {},
   "outputs": [],
   "source": []
  }
 ],
 "metadata": {
  "kernelspec": {
   "display_name": "Python 3 (ipykernel)",
   "language": "python",
   "name": "python3"
  },
  "language_info": {
   "codemirror_mode": {
    "name": "ipython",
    "version": 3
   },
   "file_extension": ".py",
   "mimetype": "text/x-python",
   "name": "python",
   "nbconvert_exporter": "python",
   "pygments_lexer": "ipython3",
   "version": "3.9.7"
  }
 },
 "nbformat": 4,
 "nbformat_minor": 5
}
